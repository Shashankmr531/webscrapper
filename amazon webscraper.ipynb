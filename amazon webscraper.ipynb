{
 "cells": [
  {
   "cell_type": "code",
   "execution_count": 34,
   "id": "7bc9e291",
   "metadata": {},
   "outputs": [],
   "source": [
    "from selenium import webdriver\n",
    "import chromedriver_binary\n",
    "import csv\n",
    "from bs4 import BeautifulSoup"
   ]
  },
  {
   "cell_type": "code",
   "execution_count": 3,
   "id": "1142747c",
   "metadata": {},
   "outputs": [
    {
     "name": "stdout",
     "output_type": "stream",
     "text": [
      "Requirement already satisfied: selenium in c:\\users\\shashank m r\\anaconda3\\lib\\site-packages (4.7.2)\n",
      "Requirement already satisfied: urllib3[socks]~=1.26 in c:\\users\\shashank m r\\anaconda3\\lib\\site-packages (from selenium) (1.26.7)\n",
      "Requirement already satisfied: trio~=0.17 in c:\\users\\shashank m r\\anaconda3\\lib\\site-packages (from selenium) (0.22.0)\n",
      "Requirement already satisfied: certifi>=2021.10.8 in c:\\users\\shashank m r\\anaconda3\\lib\\site-packages (from selenium) (2021.10.8)\n",
      "Requirement already satisfied: trio-websocket~=0.9 in c:\\users\\shashank m r\\anaconda3\\lib\\site-packages (from selenium) (0.9.2)\n",
      "Requirement already satisfied: async-generator>=1.9 in c:\\users\\shashank m r\\anaconda3\\lib\\site-packages (from trio~=0.17->selenium) (1.10)\n",
      "Requirement already satisfied: outcome in c:\\users\\shashank m r\\anaconda3\\lib\\site-packages (from trio~=0.17->selenium) (1.2.0)\n",
      "Requirement already satisfied: idna in c:\\users\\shashank m r\\anaconda3\\lib\\site-packages (from trio~=0.17->selenium) (3.2)\n",
      "Requirement already satisfied: attrs>=19.2.0 in c:\\users\\shashank m r\\anaconda3\\lib\\site-packages (from trio~=0.17->selenium) (21.2.0)\n",
      "Requirement already satisfied: cffi>=1.14 in c:\\users\\shashank m r\\anaconda3\\lib\\site-packages (from trio~=0.17->selenium) (1.14.6)\n",
      "Requirement already satisfied: exceptiongroup>=1.0.0rc9 in c:\\users\\shashank m r\\anaconda3\\lib\\site-packages (from trio~=0.17->selenium) (1.1.0)\n",
      "Requirement already satisfied: sniffio in c:\\users\\shashank m r\\anaconda3\\lib\\site-packages (from trio~=0.17->selenium) (1.2.0)\n",
      "Requirement already satisfied: sortedcontainers in c:\\users\\shashank m r\\anaconda3\\lib\\site-packages (from trio~=0.17->selenium) (2.4.0)\n",
      "Requirement already satisfied: pycparser in c:\\users\\shashank m r\\anaconda3\\lib\\site-packages (from cffi>=1.14->trio~=0.17->selenium) (2.20)\n",
      "Requirement already satisfied: wsproto>=0.14 in c:\\users\\shashank m r\\anaconda3\\lib\\site-packages (from trio-websocket~=0.9->selenium) (1.2.0)\n",
      "Requirement already satisfied: PySocks!=1.5.7,<2.0,>=1.5.6 in c:\\users\\shashank m r\\anaconda3\\lib\\site-packages (from urllib3[socks]~=1.26->selenium) (1.7.1)\n",
      "Requirement already satisfied: h11<1,>=0.9.0 in c:\\users\\shashank m r\\anaconda3\\lib\\site-packages (from wsproto>=0.14->trio-websocket~=0.9->selenium) (0.14.0)\n"
     ]
    }
   ],
   "source": [
    "!pip install selenium\n"
   ]
  },
  {
   "cell_type": "code",
   "execution_count": 28,
   "id": "84955ca8",
   "metadata": {},
   "outputs": [
    {
     "name": "stdout",
     "output_type": "stream",
     "text": [
      "Collecting chromedriver_binary==108.0.5359.71.0\n",
      "  Downloading chromedriver-binary-108.0.5359.71.0.tar.gz (5.1 kB)\n",
      "Building wheels for collected packages: chromedriver-binary\n",
      "  Building wheel for chromedriver-binary (setup.py): started\n",
      "  Building wheel for chromedriver-binary (setup.py): finished with status 'done'\n",
      "  Created wheel for chromedriver-binary: filename=chromedriver_binary-108.0.5359.71.0-py3-none-any.whl size=6911327 sha256=594bec06d2c3998f6c677e0590bbe7d5ad994c003f2f8f211c6c179b66b7dfb9\n",
      "  Stored in directory: c:\\users\\shashank m r\\appdata\\local\\pip\\cache\\wheels\\f6\\59\\22\\efc96e2766867abd8f2d1d3dd6be102a39ad6ab1d2e19e9474\n",
      "Successfully built chromedriver-binary\n",
      "Installing collected packages: chromedriver-binary\n",
      "  Attempting uninstall: chromedriver-binary\n",
      "    Found existing installation: chromedriver-binary 109.0.5414.25.0\n",
      "    Uninstalling chromedriver-binary-109.0.5414.25.0:\n",
      "      Successfully uninstalled chromedriver-binary-109.0.5414.25.0\n",
      "Successfully installed chromedriver-binary-108.0.5359.71.0\n"
     ]
    }
   ],
   "source": [
    "!pip install chromedriver_binary==108.0.5359.71.0"
   ]
  },
  {
   "cell_type": "code",
   "execution_count": 112,
   "id": "ff0b9f70",
   "metadata": {},
   "outputs": [],
   "source": [
    "def my_url(keyword):\n",
    "    temp='https://www.amazon.com/s?k={}&ref=nb_sb_noss_1'\n",
    "    keyword=keyword.replace(' ','+')\n",
    "    url=temp.format(keyword)\n",
    "    url+='&page{}'\n",
    "    return url\n",
    "def extract_records(obj):\n",
    "    atag=obj.h2.a\n",
    "    description=obj.h2.a.text.strip()\n",
    "    url='https://www.amazon.com/'+atag.get('href')\n",
    "    try:\n",
    "        parent=obj.find('span','a-price')\n",
    "        price=parent.find('span','a-offscreen').text\n",
    "    except AttributeError:\n",
    "            return\n",
    "    try:\n",
    "        rate=obj.find('span','a-icon-alt').text\n",
    "        counts_review=obj.find('span',{'class':'a-size-base s-underline-text','dir':'auto'}).text\n",
    "    except AttributeError:\n",
    "            rate=''\n",
    "            counts_review=''\n",
    "    image=obj.find('img',{'class':'s-image'}).get('src')\n",
    "    result=(description,price,rate,counts_review,url,image)\n",
    "    return result\n",
    "def main(keyword):\n",
    "    driver=webdriver.Chrome()\n",
    "    records=[]\n",
    "    url=my_url(keyword)\n",
    "    for page in range(1,3):\n",
    "        driver.get(url.format(page))\n",
    "        soup=BeautifulSoup(driver.page_source,'html.parser')\n",
    "        soup_results=soup.find_all('div',{'data-component-type':'s-search-result'})\n",
    "        for item in soup_results:\n",
    "            record=extract_records(item)\n",
    "            if record:\n",
    "                records.append(record)\n",
    "        with open('result.csv','w',newline='',encoding='utf-8') as f:\n",
    "            writer=csv.writer(f)\n",
    "            writer.writerow(['Description','Prce','Rate','Count_review','Url','Image'])\n",
    "            writer.writerows(records)\n",
    "   \n",
    "        "
   ]
  },
  {
   "cell_type": "code",
   "execution_count": 114,
   "id": "190df958",
   "metadata": {},
   "outputs": [],
   "source": [
    "main('school bag')\n"
   ]
  },
  {
   "cell_type": "code",
   "execution_count": null,
   "id": "99848a4b",
   "metadata": {},
   "outputs": [],
   "source": []
  },
  {
   "cell_type": "code",
   "execution_count": 83,
   "id": "d5cf588c",
   "metadata": {
    "scrolled": true
   },
   "outputs": [
    {
     "data": {
      "text/plain": [
       "'C:\\\\Users\\\\Shashank M R'"
      ]
     },
     "execution_count": 83,
     "metadata": {},
     "output_type": "execute_result"
    }
   ],
   "source": [
    "import os\n",
    "os.getcwd()"
   ]
  },
  {
   "cell_type": "code",
   "execution_count": 76,
   "id": "4fee7622",
   "metadata": {},
   "outputs": [
    {
     "ename": "NameError",
     "evalue": "name 'records' is not defined",
     "output_type": "error",
     "traceback": [
      "\u001b[1;31m---------------------------------------------------------------------------\u001b[0m",
      "\u001b[1;31mNameError\u001b[0m                                 Traceback (most recent call last)",
      "\u001b[1;32mC:\\Users\\SHASHA~1\\AppData\\Local\\Temp/ipykernel_19696/1910749104.py\u001b[0m in \u001b[0;36m<module>\u001b[1;34m\u001b[0m\n\u001b[1;32m----> 1\u001b[1;33m \u001b[0mprint\u001b[0m\u001b[1;33m(\u001b[0m\u001b[0mrecords\u001b[0m\u001b[1;33m)\u001b[0m\u001b[1;33m\u001b[0m\u001b[1;33m\u001b[0m\u001b[0m\n\u001b[0m",
      "\u001b[1;31mNameError\u001b[0m: name 'records' is not defined"
     ]
    }
   ],
   "source": [
    "\n"
   ]
  },
  {
   "cell_type": "code",
   "execution_count": null,
   "id": "0695634d",
   "metadata": {},
   "outputs": [],
   "source": []
  }
 ],
 "metadata": {
  "kernelspec": {
   "display_name": "Python 3 (ipykernel)",
   "language": "python",
   "name": "python3"
  },
  "language_info": {
   "codemirror_mode": {
    "name": "ipython",
    "version": 3
   },
   "file_extension": ".py",
   "mimetype": "text/x-python",
   "name": "python",
   "nbconvert_exporter": "python",
   "pygments_lexer": "ipython3",
   "version": "3.9.7"
  }
 },
 "nbformat": 4,
 "nbformat_minor": 5
}
